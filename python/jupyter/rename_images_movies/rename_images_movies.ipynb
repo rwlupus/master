{
 "cells": [
  {
   "cell_type": "code",
   "execution_count": 1,
   "id": "78fc2f7c-dd98-422c-b262-b6a244c3cc37",
   "metadata": {},
   "outputs": [
    {
     "data": {
      "application/vnd.jupyter.widget-view+json": {
       "model_id": "e5d18d7f0f1b4926bcae7f415470b94f",
       "version_major": 2,
       "version_minor": 0
      },
      "text/plain": [
       "Text(value='d:/fotki/2023/tmp — kopia', description='Source:', layout=Layout(width='500px'), style=TextStyle(d…"
      ]
     },
     "metadata": {},
     "output_type": "display_data"
    },
    {
     "data": {
      "application/vnd.jupyter.widget-view+json": {
       "model_id": "47127686524447248321391bbdd8a81b",
       "version_major": 2,
       "version_minor": 0
      },
      "text/plain": [
       "Text(value='d:/fotki/2023/tmp — kopia2', description='Target: ', layout=Layout(width='500px'), style=TextStyle…"
      ]
     },
     "metadata": {},
     "output_type": "display_data"
    },
    {
     "data": {
      "application/vnd.jupyter.widget-view+json": {
       "model_id": "78771fca4081436a90d28a7288df1c5a",
       "version_major": 2,
       "version_minor": 0
      },
      "text/plain": [
       "IntText(value=7, description='Offset: ', layout=Layout(width='500px'), style=DescriptionStyle(description_widt…"
      ]
     },
     "metadata": {},
     "output_type": "display_data"
    },
    {
     "data": {
      "application/vnd.jupyter.widget-view+json": {
       "model_id": "5cd4ac673f884a29b2cd1e8813b0410a",
       "version_major": 2,
       "version_minor": 0
      },
      "text/plain": [
       "ToggleButtons(description='Conflict Resolution:', options=('add_counter', 'increment_seconds'), tooltips=('Add…"
      ]
     },
     "metadata": {},
     "output_type": "display_data"
    },
    {
     "data": {
      "application/vnd.jupyter.widget-view+json": {
       "model_id": "230cb5a68d7d44028bd81e373080847a",
       "version_major": 2,
       "version_minor": 0
      },
      "text/plain": [
       "Checkbox(value=True, description='Dry Run')"
      ]
     },
     "metadata": {},
     "output_type": "display_data"
    },
    {
     "data": {
      "application/vnd.jupyter.widget-view+json": {
       "model_id": "c63ede193e9f4f4ea82be08e2a86dcfb",
       "version_major": 2,
       "version_minor": 0
      },
      "text/plain": [
       "Checkbox(value=False, description='Rename In Place')"
      ]
     },
     "metadata": {},
     "output_type": "display_data"
    },
    {
     "data": {
      "application/vnd.jupyter.widget-view+json": {
       "model_id": "1be0dd914e864c69a675b3fb8494b209",
       "version_major": 2,
       "version_minor": 0
      },
      "text/plain": [
       "Button(button_style='primary', description='Dry Run', icon='check', style=ButtonStyle(), tooltip='Simulate the…"
      ]
     },
     "metadata": {},
     "output_type": "display_data"
    },
    {
     "data": {
      "application/vnd.jupyter.widget-view+json": {
       "model_id": "80afd77dd9b142f083ea54bd0d83507b",
       "version_major": 2,
       "version_minor": 0
      },
      "text/plain": [
       "Output()"
      ]
     },
     "metadata": {},
     "output_type": "display_data"
    }
   ],
   "source": [
    "import rename_images_movies as app\n",
    "\n",
    "app.setup_widgets()"
   ]
  }
 ],
 "metadata": {
  "kernelspec": {
   "display_name": "Python 3 (ipykernel)",
   "language": "python",
   "name": "python3"
  },
  "language_info": {
   "codemirror_mode": {
    "name": "ipython",
    "version": 3
   },
   "file_extension": ".py",
   "mimetype": "text/x-python",
   "name": "python",
   "nbconvert_exporter": "python",
   "pygments_lexer": "ipython3",
   "version": "3.12.1"
  }
 },
 "nbformat": 4,
 "nbformat_minor": 5
}
